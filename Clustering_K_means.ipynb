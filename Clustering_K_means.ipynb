{
 "cells": [
  {
   "cell_type": "code",
   "execution_count": 250,
   "metadata": {
    "id": "JosuY7dwxT4c"
   },
   "outputs": [],
   "source": [
    "import pandas as pd\n",
    "import numpy as np\n",
    "from sklearn.preprocessing import StandardScaler\n",
    "from sklearn.cluster import KMeans\n",
    "import matplotlib.pyplot as plt\n",
    "from sklearn.tree import DecisionTreeClassifier\n",
    "from sklearn.tree import plot_tree\n",
    "from sklearn.preprocessing import LabelEncoder\n",
    "from sklearn.decomposition import PCA\n",
    "import seaborn as sns"
   ]
  },
  {
   "cell_type": "code",
   "execution_count": 251,
   "metadata": {
    "id": "ATVxfJPaxtwX"
   },
   "outputs": [],
   "source": [
    "pd.set_option('display.max_columns', None)"
   ]
  },
  {
   "cell_type": "markdown",
   "metadata": {
    "id": "FIsHBdbLxwwf"
   },
   "source": [
    "# HW:\n",
    "The data set includes the churn of customers of a telecommunications company.\n",
    "The task is to create segments from customers based on their characteristics using the KMeans algorithm.\n",
    "\n",
    "Do not use the following variables for grouping:\n",
    "- churn?: has the customer dropped out?\n",
    "- Contract_date: contract conclusion time\n",
    "- Cust_ID: customer ID"
   ]
  },
  {
   "cell_type": "markdown",
   "metadata": {
    "id": "8LT1xMaBxY0-"
   },
   "source": [
    "#  1. Data Preparation and Data Analysis\n"
   ]
  },
  {
   "cell_type": "code",
   "execution_count": 252,
   "metadata": {},
   "outputs": [],
   "source": [
    "## reading the data\n",
    "file_path = \"telco_sampled.csv\"\n",
    "df = pd.read_csv(file_path, sep = ';')"
   ]
  },
  {
   "cell_type": "code",
   "execution_count": 253,
   "metadata": {
    "colab": {
     "base_uri": "https://localhost:8080/",
     "height": 313
    },
    "id": "8E4ef2dyyMbC",
    "outputId": "b3f0ec0f-efb6-4f50-b3d1-ecd3e55b21ec"
   },
   "outputs": [
    {
     "name": "stdout",
     "output_type": "stream",
     "text": [
      "       Contract_date Package  Gender   Age Marital_Status Living_Condition  \\\n",
      "0   9/20/04 12:00 AM  PACK_B    Male  42.0        Married            Owner   \n",
      "1   2/12/05 12:00 AM  PACK_B  Female  53.0        Married            Owner   \n",
      "2  10/19/04 12:00 AM  PACK_X    Male  43.0        Married            Owner   \n",
      "3  10/31/04 12:00 AM  PACK_B    Male  32.0        Married            Owner   \n",
      "4  11/19/04 12:00 AM  PACK_B  Female  31.0        Married            Owner   \n",
      "\n",
      "   Graduation         Job_Type     Income  Peak_minute_09  Weekend_minute_09  \\\n",
      "0  University           Leader     15_30k            0.55               0.28   \n",
      "1  University  Public_Employee  Below_15k           11.32               6.53   \n",
      "2  Highschool        Executive     30_60k           78.05               3.90   \n",
      "3  Highschool         Labourer     15_30k            0.08               0.00   \n",
      "4  Highschool  Public_Employee     30_60k           20.68              13.87   \n",
      "\n",
      "   Offpeak_minute_09  Offpeak_nr_09  Peak_nr_09  Weekend_nr_09  \\\n",
      "0               0.00            0.0         2.0            1.0   \n",
      "1               6.98           26.0        37.0           19.0   \n",
      "2               8.43            5.0       103.0            9.0   \n",
      "3               0.00            0.0         1.0            0.0   \n",
      "4              33.27           49.0        30.0           26.0   \n",
      "\n",
      "   Selfnet_minute_09  Fixed_minute_09  Othermob_minute_09  Voicemail_nr_09  \\\n",
      "0               0.83             0.00                0.00              3.0   \n",
      "1               6.70             8.02               10.12             21.0   \n",
      "2              19.67             2.83               67.88            116.0   \n",
      "3               0.08             0.00                0.00              1.0   \n",
      "4              37.90             0.53               23.02             79.0   \n",
      "\n",
      "   Voicemail_minute_09  SMS_09  Peak_minute_10  Weekend_minute_10  \\\n",
      "0                 0.83     0.0            0.00               0.00   \n",
      "1                21.90    58.0           25.70               5.28   \n",
      "2                90.38     1.0           24.30              15.53   \n",
      "3                 0.08     0.0            0.00               0.00   \n",
      "4                67.82    26.0           42.08              24.48   \n",
      "\n",
      "   Offpeak_minute_10  Offpeak_nr_10  Peak_nr_10  Weekend_nr_10  \\\n",
      "0               0.00            0.0         0.0            0.0   \n",
      "1              15.38           52.0        77.0           32.0   \n",
      "2               2.63            9.0        40.0           16.0   \n",
      "3               0.00            0.0         0.0            0.0   \n",
      "4              31.10           39.0        56.0           28.0   \n",
      "\n",
      "   Selfnet_minute_10  Fixed_minute_10  Othermob_minute_10  Voicemail_nr_10  \\\n",
      "0               0.00             0.00                0.00              0.0   \n",
      "1              11.07            12.80               22.50             30.0   \n",
      "2              17.15             1.68               23.35             65.0   \n",
      "3               0.00             0.00                0.00              0.0   \n",
      "4              65.58             1.53               26.10            100.0   \n",
      "\n",
      "   Voicemail_minute_10  SMS_10  Peak_minute_11  Weekend_minute_11  \\\n",
      "0                 0.00     0.0            0.00               0.00   \n",
      "1                37.33   128.0           25.33               0.00   \n",
      "2                42.47     0.0           55.27               1.27   \n",
      "3                 0.00     0.0            0.00               0.00   \n",
      "4                97.67    23.0           31.52              28.27   \n",
      "\n",
      "   Offpeak_minute_11  Offpeak_nr_11  Peak_nr_11  Weekend_nr_11  \\\n",
      "0               0.00            0.0         0.0            0.0   \n",
      "1               7.60           51.0        49.0           20.0   \n",
      "2               1.75            7.0        64.0            4.0   \n",
      "3               0.00            0.0         0.0            0.0   \n",
      "4              28.37           33.0        48.0           46.0   \n",
      "\n",
      "   Selfnet_minute_11  Fixed_minute_11  Othermob_minute_11  Voicemail_nr_11  \\\n",
      "0               0.00             0.00                0.00              0.0   \n",
      "1               1.83            14.52               16.58             36.0   \n",
      "2               6.63            15.45               36.20             74.0   \n",
      "3               0.00             0.00                0.00              0.0   \n",
      "4              50.80             0.62               31.17            103.0   \n",
      "\n",
      "   Voicemail_minute_11  SMS_11  Peak_minute_12  Weekend_minute_12  \\\n",
      "0                 0.00     0.0            0.00               0.00   \n",
      "1                32.93    83.0           11.95               3.60   \n",
      "2                58.28     1.0            9.97               8.65   \n",
      "3                 0.00     0.0            0.00               0.00   \n",
      "4                86.70    21.0           49.68              35.90   \n",
      "\n",
      "   Offpeak_minute_12  Offpeak_nr_12  Peak_nr_12  Weekend_nr_12  \\\n",
      "0               0.00            0.0         0.0            0.0   \n",
      "1               4.28           25.0        40.0           25.0   \n",
      "2               4.23            3.0        22.0           18.0   \n",
      "3               0.00            0.0         0.0            0.0   \n",
      "4              29.45           69.0        78.0           47.0   \n",
      "\n",
      "   Selfnet_minute_12  Fixed_minute_12  Othermob_minute_12  Voicemail_nr_12  \\\n",
      "0               0.00             0.00                0.00              0.0   \n",
      "1               0.93             6.20               12.70             21.0   \n",
      "2               2.98             0.38                9.40             31.0   \n",
      "3               0.00             0.00                0.00              0.0   \n",
      "4              71.17             2.13               31.05            121.0   \n",
      "\n",
      "   Voicemail_minute_12  SMS_12  churn?    Cust_ID  \n",
      "0                 0.00     0.0       0  ID0020614  \n",
      "1                19.83    66.0       0  ID0029505  \n",
      "2                22.07    12.0       0  ID0050206  \n",
      "3                 0.00     0.0       0  ID0050343  \n",
      "4               111.40    64.0       0  ID0050688  \n"
     ]
    },
    {
     "data": {
      "text/plain": [
       "(1565, 59)"
      ]
     },
     "execution_count": 253,
     "metadata": {},
     "output_type": "execute_result"
    }
   ],
   "source": [
    "print(df.head())\n",
    "df.shape"
   ]
  },
  {
   "cell_type": "code",
   "execution_count": 254,
   "metadata": {
    "id": "5AGjuin8NULA"
   },
   "outputs": [
    {
     "name": "stdout",
     "output_type": "stream",
     "text": [
      "Index(['Contract_date', 'Package', 'Gender', 'Age', 'Marital_Status',\n",
      "       'Living_Condition', 'Graduation', 'Job_Type', 'Income',\n",
      "       'Peak_minute_09', 'Weekend_minute_09', 'Offpeak_minute_09',\n",
      "       'Offpeak_nr_09', 'Peak_nr_09', 'Weekend_nr_09', 'Selfnet_minute_09',\n",
      "       'Fixed_minute_09', 'Othermob_minute_09', 'Voicemail_nr_09',\n",
      "       'Voicemail_minute_09', 'SMS_09', 'Peak_minute_10', 'Weekend_minute_10',\n",
      "       'Offpeak_minute_10', 'Offpeak_nr_10', 'Peak_nr_10', 'Weekend_nr_10',\n",
      "       'Selfnet_minute_10', 'Fixed_minute_10', 'Othermob_minute_10',\n",
      "       'Voicemail_nr_10', 'Voicemail_minute_10', 'SMS_10', 'Peak_minute_11',\n",
      "       'Weekend_minute_11', 'Offpeak_minute_11', 'Offpeak_nr_11', 'Peak_nr_11',\n",
      "       'Weekend_nr_11', 'Selfnet_minute_11', 'Fixed_minute_11',\n",
      "       'Othermob_minute_11', 'Voicemail_nr_11', 'Voicemail_minute_11',\n",
      "       'SMS_11', 'Peak_minute_12', 'Weekend_minute_12', 'Offpeak_minute_12',\n",
      "       'Offpeak_nr_12', 'Peak_nr_12', 'Weekend_nr_12', 'Selfnet_minute_12',\n",
      "       'Fixed_minute_12', 'Othermob_minute_12', 'Voicemail_nr_12',\n",
      "       'Voicemail_minute_12', 'SMS_12', 'churn?', 'Cust_ID'],\n",
      "      dtype='object')\n"
     ]
    }
   ],
   "source": [
    "df['churn?'].value_counts()\n",
    "print(df.columns)"
   ]
  },
  {
   "cell_type": "markdown",
   "metadata": {
    "id": "LmRIonxGy9Qi"
   },
   "source": [
    "# 1.1 Subtask: (data preparation)\n",
    "Use all variables except for the three variables above when creating the clusters. Perform data preparation so that the variables are input to the model in the appropriate form.\n",
    "\n",
    "(hint: categorical variables, missing values, scaling, etc.)"
   ]
  },
  {
   "cell_type": "code",
   "execution_count": 255,
   "metadata": {},
   "outputs": [
    {
     "name": "stdout",
     "output_type": "stream",
     "text": [
      "Contract_date           object\n",
      "Package                 object\n",
      "Gender                  object\n",
      "Age                    float64\n",
      "Marital_Status          object\n",
      "Living_Condition        object\n",
      "Graduation              object\n",
      "Job_Type                object\n",
      "Income                  object\n",
      "Peak_minute_09         float64\n",
      "Weekend_minute_09      float64\n",
      "Offpeak_minute_09      float64\n",
      "Offpeak_nr_09          float64\n",
      "Peak_nr_09             float64\n",
      "Weekend_nr_09          float64\n",
      "Selfnet_minute_09      float64\n",
      "Fixed_minute_09        float64\n",
      "Othermob_minute_09     float64\n",
      "Voicemail_nr_09        float64\n",
      "Voicemail_minute_09    float64\n",
      "SMS_09                 float64\n",
      "Peak_minute_10         float64\n",
      "Weekend_minute_10      float64\n",
      "Offpeak_minute_10      float64\n",
      "Offpeak_nr_10          float64\n",
      "Peak_nr_10             float64\n",
      "Weekend_nr_10          float64\n",
      "Selfnet_minute_10      float64\n",
      "Fixed_minute_10        float64\n",
      "Othermob_minute_10     float64\n",
      "Voicemail_nr_10        float64\n",
      "Voicemail_minute_10    float64\n",
      "SMS_10                 float64\n",
      "Peak_minute_11         float64\n",
      "Weekend_minute_11      float64\n",
      "Offpeak_minute_11      float64\n",
      "Offpeak_nr_11          float64\n",
      "Peak_nr_11             float64\n",
      "Weekend_nr_11          float64\n",
      "Selfnet_minute_11      float64\n",
      "Fixed_minute_11        float64\n",
      "Othermob_minute_11     float64\n",
      "Voicemail_nr_11        float64\n",
      "Voicemail_minute_11    float64\n",
      "SMS_11                 float64\n",
      "Peak_minute_12         float64\n",
      "Weekend_minute_12      float64\n",
      "Offpeak_minute_12      float64\n",
      "Offpeak_nr_12          float64\n",
      "Peak_nr_12             float64\n",
      "Weekend_nr_12          float64\n",
      "Selfnet_minute_12      float64\n",
      "Fixed_minute_12        float64\n",
      "Othermob_minute_12     float64\n",
      "Voicemail_nr_12        float64\n",
      "Voicemail_minute_12    float64\n",
      "SMS_12                 float64\n",
      "churn?                   int64\n",
      "Cust_ID                 object\n",
      "dtype: object\n"
     ]
    }
   ],
   "source": [
    "print(df.dtypes)"
   ]
  },
  {
   "cell_type": "code",
   "execution_count": 256,
   "metadata": {},
   "outputs": [
    {
     "name": "stdout",
     "output_type": "stream",
     "text": [
      "Contract_date          0\n",
      "Package                0\n",
      "Gender                 0\n",
      "Age                    0\n",
      "Marital_Status         0\n",
      "Living_Condition       0\n",
      "Graduation             0\n",
      "Job_Type               0\n",
      "Income                 0\n",
      "Peak_minute_09         0\n",
      "Weekend_minute_09      0\n",
      "Offpeak_minute_09      0\n",
      "Offpeak_nr_09          0\n",
      "Peak_nr_09             0\n",
      "Weekend_nr_09          0\n",
      "Selfnet_minute_09      0\n",
      "Fixed_minute_09        0\n",
      "Othermob_minute_09     0\n",
      "Voicemail_nr_09        1\n",
      "Voicemail_minute_09    1\n",
      "SMS_09                 0\n",
      "Peak_minute_10         0\n",
      "Weekend_minute_10      0\n",
      "Offpeak_minute_10      0\n",
      "Offpeak_nr_10          0\n",
      "Peak_nr_10             0\n",
      "Weekend_nr_10          0\n",
      "Selfnet_minute_10      0\n",
      "Fixed_minute_10        0\n",
      "Othermob_minute_10     0\n",
      "Voicemail_nr_10        1\n",
      "Voicemail_minute_10    0\n",
      "SMS_10                 0\n",
      "Peak_minute_11         0\n",
      "Weekend_minute_11      0\n",
      "Offpeak_minute_11      0\n",
      "Offpeak_nr_11          0\n",
      "Peak_nr_11             0\n",
      "Weekend_nr_11          0\n",
      "Selfnet_minute_11      0\n",
      "Fixed_minute_11        0\n",
      "Othermob_minute_11     0\n",
      "Voicemail_nr_11        1\n",
      "Voicemail_minute_11    1\n",
      "SMS_11                 0\n",
      "Peak_minute_12         0\n",
      "Weekend_minute_12      0\n",
      "Offpeak_minute_12      1\n",
      "Offpeak_nr_12          0\n",
      "Peak_nr_12             0\n",
      "Weekend_nr_12          0\n",
      "Selfnet_minute_12      1\n",
      "Fixed_minute_12        0\n",
      "Othermob_minute_12     1\n",
      "Voicemail_nr_12        0\n",
      "Voicemail_minute_12    3\n",
      "SMS_12                 0\n",
      "churn?                 0\n",
      "Cust_ID                0\n",
      "dtype: int64\n"
     ]
    }
   ],
   "source": [
    "## Replace missing values with meaningful substitutes namely the mean\n",
    "\n",
    "print(df.isnull().sum())\n",
    "\n",
    "#There is no missing values in the columns , if any\n",
    "for column in df.columns:\n",
    "    if df[column].isnull().any():\n",
    "        if df[column].dtype == \"float64\":\n",
    "            df[column].fillna(df[column].mean(),inplace=True)\n",
    "        if df[column].dtype == \"object\":\n",
    "            df[column].fillna(df[column].mode()[0],inplace=True)\n",
    "            \n",
    "        "
   ]
  },
  {
   "cell_type": "code",
   "execution_count": 257,
   "metadata": {},
   "outputs": [
    {
     "name": "stdout",
     "output_type": "stream",
     "text": [
      "(1565, 59)\n"
     ]
    }
   ],
   "source": [
    "## Remove the duplicate rows\n",
    "df.drop_duplicates(inplace=True)\n",
    "print(df.shape)"
   ]
  },
  {
   "cell_type": "code",
   "execution_count": 258,
   "metadata": {},
   "outputs": [
    {
     "name": "stdout",
     "output_type": "stream",
     "text": [
      "Contract_date          category\n",
      "Package                category\n",
      "Gender                 category\n",
      "Age                     float64\n",
      "Marital_Status         category\n",
      "Living_Condition       category\n",
      "Graduation             category\n",
      "Job_Type               category\n",
      "Income                 category\n",
      "Peak_minute_09          float64\n",
      "Weekend_minute_09       float64\n",
      "Offpeak_minute_09       float64\n",
      "Offpeak_nr_09           float64\n",
      "Peak_nr_09              float64\n",
      "Weekend_nr_09           float64\n",
      "Selfnet_minute_09       float64\n",
      "Fixed_minute_09         float64\n",
      "Othermob_minute_09      float64\n",
      "Voicemail_nr_09         float64\n",
      "Voicemail_minute_09     float64\n",
      "SMS_09                  float64\n",
      "Peak_minute_10          float64\n",
      "Weekend_minute_10       float64\n",
      "Offpeak_minute_10       float64\n",
      "Offpeak_nr_10           float64\n",
      "Peak_nr_10              float64\n",
      "Weekend_nr_10           float64\n",
      "Selfnet_minute_10       float64\n",
      "Fixed_minute_10         float64\n",
      "Othermob_minute_10      float64\n",
      "Voicemail_nr_10         float64\n",
      "Voicemail_minute_10     float64\n",
      "SMS_10                  float64\n",
      "Peak_minute_11          float64\n",
      "Weekend_minute_11       float64\n",
      "Offpeak_minute_11       float64\n",
      "Offpeak_nr_11           float64\n",
      "Peak_nr_11              float64\n",
      "Weekend_nr_11           float64\n",
      "Selfnet_minute_11       float64\n",
      "Fixed_minute_11         float64\n",
      "Othermob_minute_11      float64\n",
      "Voicemail_nr_11         float64\n",
      "Voicemail_minute_11     float64\n",
      "SMS_11                  float64\n",
      "Peak_minute_12          float64\n",
      "Weekend_minute_12       float64\n",
      "Offpeak_minute_12       float64\n",
      "Offpeak_nr_12           float64\n",
      "Peak_nr_12              float64\n",
      "Weekend_nr_12           float64\n",
      "Selfnet_minute_12       float64\n",
      "Fixed_minute_12         float64\n",
      "Othermob_minute_12      float64\n",
      "Voicemail_nr_12         float64\n",
      "Voicemail_minute_12     float64\n",
      "SMS_12                  float64\n",
      "churn?                    int64\n",
      "Cust_ID                category\n",
      "dtype: object\n"
     ]
    }
   ],
   "source": [
    "# changing columns where  from object to categorical and encoding\n",
    "catergorical_col= df.select_dtypes(include=[\"object\"]).columns\n",
    "df[catergorical_col] = df[catergorical_col].astype(\"category\")\n",
    "print(df.dtypes)"
   ]
  },
  {
   "cell_type": "code",
   "execution_count": 259,
   "metadata": {},
   "outputs": [
    {
     "name": "stdout",
     "output_type": "stream",
     "text": [
      "Contract_date               category\n",
      "Age                          float64\n",
      "Peak_minute_09               float64\n",
      "Weekend_minute_09            float64\n",
      "Offpeak_minute_09            float64\n",
      "                              ...   \n",
      "Job_Type_Public_Employee       uint8\n",
      "Job_Type_Retired               uint8\n",
      "Income_30_60k                  uint8\n",
      "Income_Below_15k               uint8\n",
      "Income_Over_60k                uint8\n",
      "Length: 75, dtype: object\n",
      "Index(['Contract_date', 'Age', 'Peak_minute_09', 'Weekend_minute_09',\n",
      "       'Offpeak_minute_09', 'Offpeak_nr_09', 'Peak_nr_09', 'Weekend_nr_09',\n",
      "       'Selfnet_minute_09', 'Fixed_minute_09', 'Othermob_minute_09',\n",
      "       'Voicemail_nr_09', 'Voicemail_minute_09', 'SMS_09', 'Peak_minute_10',\n",
      "       'Weekend_minute_10', 'Offpeak_minute_10', 'Offpeak_nr_10', 'Peak_nr_10',\n",
      "       'Weekend_nr_10', 'Selfnet_minute_10', 'Fixed_minute_10',\n",
      "       'Othermob_minute_10', 'Voicemail_nr_10', 'Voicemail_minute_10',\n",
      "       'SMS_10', 'Peak_minute_11', 'Weekend_minute_11', 'Offpeak_minute_11',\n",
      "       'Offpeak_nr_11', 'Peak_nr_11', 'Weekend_nr_11', 'Selfnet_minute_11',\n",
      "       'Fixed_minute_11', 'Othermob_minute_11', 'Voicemail_nr_11',\n",
      "       'Voicemail_minute_11', 'SMS_11', 'Peak_minute_12', 'Weekend_minute_12',\n",
      "       'Offpeak_minute_12', 'Offpeak_nr_12', 'Peak_nr_12', 'Weekend_nr_12',\n",
      "       'Selfnet_minute_12', 'Fixed_minute_12', 'Othermob_minute_12',\n",
      "       'Voicemail_nr_12', 'Voicemail_minute_12', 'SMS_12', 'churn?', 'Cust_ID',\n",
      "       'Gender_Male', 'Marital_Status_In_Relationship',\n",
      "       'Marital_Status_Married', 'Marital_Status_Single',\n",
      "       'Marital_Status_Widow', 'Package_PACK_B', 'Package_PACK_C',\n",
      "       'Package_PACK_E', 'Package_PACK_X', 'Package_PACK_Z',\n",
      "       'Living_Condition_Other', 'Living_Condition_Owner',\n",
      "       'Living_Condition_Rent', 'Graduation_Primary_School',\n",
      "       'Graduation_University', 'Job_Type_Labourer', 'Job_Type_Leader',\n",
      "       'Job_Type_Other', 'Job_Type_Public_Employee', 'Job_Type_Retired',\n",
      "       'Income_30_60k', 'Income_Below_15k', 'Income_Over_60k'],\n",
      "      dtype='object')\n"
     ]
    }
   ],
   "source": [
    "## convert categorical to numerical by enconding:One-Hot Encoding for nominal data \n",
    "\n",
    "df = pd.get_dummies(df, columns=['Gender', 'Marital_Status',\"Package\",\"Living_Condition\",\"Graduation\",\"Job_Type\",\"Income\"], drop_first=True)\n",
    "print(df.dtypes)\n",
    "print(df.columns)"
   ]
  },
  {
   "cell_type": "code",
   "execution_count": null,
   "metadata": {},
   "outputs": [],
   "source": [
    "\n"
   ]
  },
  {
   "cell_type": "code",
   "execution_count": 260,
   "metadata": {},
   "outputs": [],
   "source": [
    "# Segmentation based on Weekend_minute\n",
    "\n",
    "customer_df = df.groupby('Age')['Weekend_minute_09'].agg(['count', 'mean'])"
   ]
  },
  {
   "cell_type": "code",
   "execution_count": 261,
   "metadata": {},
   "outputs": [
    {
     "data": {
      "text/html": [
       "<div>\n",
       "<style scoped>\n",
       "    .dataframe tbody tr th:only-of-type {\n",
       "        vertical-align: middle;\n",
       "    }\n",
       "\n",
       "    .dataframe tbody tr th {\n",
       "        vertical-align: top;\n",
       "    }\n",
       "\n",
       "    .dataframe thead th {\n",
       "        text-align: right;\n",
       "    }\n",
       "</style>\n",
       "<table border=\"1\" class=\"dataframe\">\n",
       "  <thead>\n",
       "    <tr style=\"text-align: right;\">\n",
       "      <th></th>\n",
       "      <th>count</th>\n",
       "      <th>mean</th>\n",
       "    </tr>\n",
       "    <tr>\n",
       "      <th>Age</th>\n",
       "      <th></th>\n",
       "      <th></th>\n",
       "    </tr>\n",
       "  </thead>\n",
       "  <tbody>\n",
       "    <tr>\n",
       "      <th>16.0</th>\n",
       "      <td>3</td>\n",
       "      <td>0.613333</td>\n",
       "    </tr>\n",
       "    <tr>\n",
       "      <th>17.0</th>\n",
       "      <td>8</td>\n",
       "      <td>4.927500</td>\n",
       "    </tr>\n",
       "    <tr>\n",
       "      <th>18.0</th>\n",
       "      <td>14</td>\n",
       "      <td>5.620000</td>\n",
       "    </tr>\n",
       "    <tr>\n",
       "      <th>19.0</th>\n",
       "      <td>18</td>\n",
       "      <td>13.019444</td>\n",
       "    </tr>\n",
       "    <tr>\n",
       "      <th>20.0</th>\n",
       "      <td>42</td>\n",
       "      <td>17.857381</td>\n",
       "    </tr>\n",
       "  </tbody>\n",
       "</table>\n",
       "</div>"
      ],
      "text/plain": [
       "      count       mean\n",
       "Age                   \n",
       "16.0      3   0.613333\n",
       "17.0      8   4.927500\n",
       "18.0     14   5.620000\n",
       "19.0     18  13.019444\n",
       "20.0     42  17.857381"
      ]
     },
     "execution_count": 261,
     "metadata": {},
     "output_type": "execute_result"
    }
   ],
   "source": [
    "customer_df.head()"
   ]
  },
  {
   "cell_type": "code",
   "execution_count": 262,
   "metadata": {},
   "outputs": [],
   "source": [
    "X_cols = ['mean', 'count']\n",
    "X = customer_df.loc[:, X_cols]"
   ]
  },
  {
   "cell_type": "code",
   "execution_count": 263,
   "metadata": {},
   "outputs": [
    {
     "data": {
      "image/png": "[encoded data removed]",
      "text/plain": [
       "<Figure size 640x480 with 1 Axes>"
      ]
     },
     "metadata": {},
     "output_type": "display_data"
    }
   ],
   "source": [
    "plt.scatter(customer_df['mean'], customer_df['count'])\n",
    "plt.xlabel(\"mean\")\n",
    "plt.ylabel(\"count\")\n",
    "plt.show()"
   ]
  },
  {
   "cell_type": "code",
   "execution_count": 264,
   "metadata": {},
   "outputs": [],
   "source": [
    "#Scaling the data\n",
    "scaler = StandardScaler()\n",
    "\n",
    "scale_df =scaler.fit_transform(X)"
   ]
  },
  {
   "cell_type": "code",
   "execution_count": 265,
   "metadata": {},
   "outputs": [
    {
     "name": "stderr",
     "output_type": "stream",
     "text": [
      "C:\\Users\\HP\\anaconda3\\lib\\site-packages\\sklearn\\cluster\\_kmeans.py:1332: UserWarning: KMeans is known to have a memory leak on Windows with MKL, when there are less chunks than available threads. You can avoid it by setting the environment variable OMP_NUM_THREADS=1.\n",
      "  warnings.warn(\n"
     ]
    },
    {
     "data": {
      "image/png": "[encoded data removed]",
      "text/plain": [
       "<Figure size 640x480 with 1 Axes>"
      ]
     },
     "metadata": {},
     "output_type": "display_data"
    }
   ],
   "source": [
    "# For now, we assume that we have two clusters (we set K to 2)\n",
    "kmeans = KMeans(n_clusters=2, random_state = 42)\n",
    "\n",
    "# We fit the model to the data that we have\n",
    "kmeans.fit(scale_df)\n",
    "# The model assigns the predicted label (cluster) for each instance\n",
    "# Each instance gets a label out of two possible labels, why?\n",
    "customer_df['cluster'] = kmeans.predict(scale_df)\n",
    "\n",
    "# To visualize the clusters, we simply plot all the instances by two different colors; e.g. the 1st cluster is plot in yellow, while the 2nd is plot in purple\n",
    "plt.scatter(customer_df['mean'], customer_df['count'], c=customer_df['cluster'])\n",
    "plt.xlabel(\"mean\")\n",
    "plt.ylabel(\"count\")\n",
    "plt.show()"
   ]
  },
  {
   "cell_type": "markdown",
   "metadata": {
    "id": "250NlJ4rzIOi"
   },
   "source": [
    "# 2. Subtask: (clustering)\n",
    "Find the optimal k value for the KMeans algorithm using the variables prepared in the previous task. Then group the customers."
   ]
  },
  {
   "cell_type": "code",
   "execution_count": 266,
   "metadata": {
    "id": "xbztHaZBzAVk"
   },
   "outputs": [
    {
     "name": "stderr",
     "output_type": "stream",
     "text": [
      "C:\\Users\\HP\\anaconda3\\lib\\site-packages\\sklearn\\cluster\\_kmeans.py:1332: UserWarning: KMeans is known to have a memory leak on Windows with MKL, when there are less chunks than available threads. You can avoid it by setting the environment variable OMP_NUM_THREADS=1.\n",
      "  warnings.warn(\n",
      "C:\\Users\\HP\\anaconda3\\lib\\site-packages\\sklearn\\cluster\\_kmeans.py:1332: UserWarning: KMeans is known to have a memory leak on Windows with MKL, when there are less chunks than available threads. You can avoid it by setting the environment variable OMP_NUM_THREADS=1.\n",
      "  warnings.warn(\n",
      "C:\\Users\\HP\\anaconda3\\lib\\site-packages\\sklearn\\cluster\\_kmeans.py:1332: UserWarning: KMeans is known to have a memory leak on Windows with MKL, when there are less chunks than available threads. You can avoid it by setting the environment variable OMP_NUM_THREADS=1.\n",
      "  warnings.warn(\n",
      "C:\\Users\\HP\\anaconda3\\lib\\site-packages\\sklearn\\cluster\\_kmeans.py:1332: UserWarning: KMeans is known to have a memory leak on Windows with MKL, when there are less chunks than available threads. You can avoid it by setting the environment variable OMP_NUM_THREADS=1.\n",
      "  warnings.warn(\n",
      "C:\\Users\\HP\\anaconda3\\lib\\site-packages\\sklearn\\cluster\\_kmeans.py:1332: UserWarning: KMeans is known to have a memory leak on Windows with MKL, when there are less chunks than available threads. You can avoid it by setting the environment variable OMP_NUM_THREADS=1.\n",
      "  warnings.warn(\n",
      "C:\\Users\\HP\\anaconda3\\lib\\site-packages\\sklearn\\cluster\\_kmeans.py:1332: UserWarning: KMeans is known to have a memory leak on Windows with MKL, when there are less chunks than available threads. You can avoid it by setting the environment variable OMP_NUM_THREADS=1.\n",
      "  warnings.warn(\n",
      "C:\\Users\\HP\\anaconda3\\lib\\site-packages\\sklearn\\cluster\\_kmeans.py:1332: UserWarning: KMeans is known to have a memory leak on Windows with MKL, when there are less chunks than available threads. You can avoid it by setting the environment variable OMP_NUM_THREADS=1.\n",
      "  warnings.warn(\n",
      "C:\\Users\\HP\\anaconda3\\lib\\site-packages\\sklearn\\cluster\\_kmeans.py:1332: UserWarning: KMeans is known to have a memory leak on Windows with MKL, when there are less chunks than available threads. You can avoid it by setting the environment variable OMP_NUM_THREADS=1.\n",
      "  warnings.warn(\n",
      "C:\\Users\\HP\\anaconda3\\lib\\site-packages\\sklearn\\cluster\\_kmeans.py:1332: UserWarning: KMeans is known to have a memory leak on Windows with MKL, when there are less chunks than available threads. You can avoid it by setting the environment variable OMP_NUM_THREADS=1.\n",
      "  warnings.warn(\n",
      "C:\\Users\\HP\\anaconda3\\lib\\site-packages\\sklearn\\cluster\\_kmeans.py:1332: UserWarning: KMeans is known to have a memory leak on Windows with MKL, when there are less chunks than available threads. You can avoid it by setting the environment variable OMP_NUM_THREADS=1.\n",
      "  warnings.warn(\n"
     ]
    },
    {
     "name": "stdout",
     "output_type": "stream",
     "text": [
      "[120.00000000000001, 59.01060592726066, 37.05314915775965, 25.7608437431361, 19.345206787209232, 14.864763145334031, 12.351096957241486, 10.924796609075996, 9.014851845257908, 7.454706436390896]\n"
     ]
    }
   ],
   "source": [
    "# \n",
    "SSE = []\n",
    "\n",
    "for i in range(1,11):\n",
    "    kmeans=KMeans(n_clusters=i,random_state=42)\n",
    "    kmeans.fit(scale_df)\n",
    "    SSE.append(kmeans.inertia_)\n",
    "\n",
    "print(SSE)"
   ]
  },
  {
   "cell_type": "code",
   "execution_count": 267,
   "metadata": {},
   "outputs": [
    {
     "data": {
      "image/png": "[encoded data removed]",
      "text/plain": [
       "<Figure size 640x480 with 1 Axes>"
      ]
     },
     "metadata": {},
     "output_type": "display_data"
    }
   ],
   "source": [
    "# Ploting values based on k numbers\n",
    "\n",
    "plt.plot(range(1,11),SSE,marker=\"o\")\n",
    "plt.xlabel(\"mean\")\n",
    "plt.ylabel(\"SSE\")\n",
    "plt.show()"
   ]
  },
  {
   "cell_type": "code",
   "execution_count": 268,
   "metadata": {},
   "outputs": [
    {
     "name": "stderr",
     "output_type": "stream",
     "text": [
      "C:\\Users\\HP\\anaconda3\\lib\\site-packages\\sklearn\\cluster\\_kmeans.py:1332: UserWarning: KMeans is known to have a memory leak on Windows with MKL, when there are less chunks than available threads. You can avoid it by setting the environment variable OMP_NUM_THREADS=1.\n",
      "  warnings.warn(\n"
     ]
    }
   ],
   "source": [
    "# We pick the elbow point (K=3) because the if we increase K , SSE does not considerably decraese , that is why the best choice is K=3 and lower classes as well\n",
    "\n",
    "optimal_k = 3  # Replace with your optimal k from the elbow method\n",
    "kmeans = KMeans(n_clusters=optimal_k, random_state=42)\n",
    "customer_df['Cluster'] = kmeans.fit_predict(scale_df)"
   ]
  },
  {
   "cell_type": "code",
   "execution_count": 269,
   "metadata": {},
   "outputs": [
    {
     "data": {
      "image/png": "[encoded data removed]",
      "text/plain": [
       "<Figure size 640x480 with 1 Axes>"
      ]
     },
     "metadata": {},
     "output_type": "display_data"
    }
   ],
   "source": [
    "plt.scatter(customer_df['mean'], customer_df['count'], c=customer_df['Cluster'])\n",
    "plt.xlabel(\"mean\")\n",
    "plt.ylabel(\"count\")\n",
    "plt.show()"
   ]
  },
  {
   "cell_type": "code",
   "execution_count": 270,
   "metadata": {},
   "outputs": [],
   "source": [
    "# finding the centroids in the final drawings\n",
    "centroids_scaled = kmeans.cluster_centers_\n",
    "centroids = scaler.inverse_transform(centroids_scaled)"
   ]
  },
  {
   "cell_type": "code",
   "execution_count": 271,
   "metadata": {},
   "outputs": [
    {
     "data": {
      "image/png": "[encoded data removed]",
      "text/plain": [
       "<Figure size 640x480 with 1 Axes>"
      ]
     },
     "metadata": {},
     "output_type": "display_data"
    }
   ],
   "source": [
    "plt.scatter(customer_df['mean'], customer_df['count'], c=customer_df['Cluster'])\n",
    "plt.scatter(centroids[:, 0], centroids[:, 1], color='r', s=50, marker = 'x')\n",
    "plt.xlabel(\"mean\")\n",
    "plt.ylabel(\"count\")\n",
    "plt.show()"
   ]
  },
  {
   "cell_type": "markdown",
   "metadata": {
    "id": "dmUzSUwNzQR9"
   },
   "source": [
    "# 3. Subtask: (explaination of clusters / conclusions)\n",
    "Try to find an explanation of what characterizes each group and what characteristics caused each customer to be in the given cluster."
   ]
  },
  {
   "cell_type": "markdown",
   "metadata": {},
   "source": [
    "### In this step, we are finalizing the clustering task by implementing the KMeans algorithm with the optimal number of clusters (K=3), which was selected using the elbow method. This choice was made because increasing the number of clusters beyond 3 didn't result in a significant decrease in the sum of squared errors (SSE), meaning that 3 clusters provide a good balance between model complexity and fit quality"
   ]
  }
 ],
 "metadata": {
  "colab": {
   "provenance": []
  },
  "kernelspec": {
   "display_name": "Python 3 (ipykernel)",
   "language": "python",
   "name": "python3"
  },
  "language_info": {
   "codemirror_mode": {
    "name": "ipython",
    "version": 3
   },
   "file_extension": ".py",
   "mimetype": "text/x-python",
   "name": "python",
   "nbconvert_exporter": "python",
   "pygments_lexer": "ipython3",
   "version": "3.9.12"
  }
 },
 "nbformat": 4,
 "nbformat_minor": 4
}
